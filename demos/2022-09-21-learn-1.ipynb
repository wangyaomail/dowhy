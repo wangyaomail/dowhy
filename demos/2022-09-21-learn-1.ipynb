{
 "cells": [
  {
   "cell_type": "code",
   "execution_count": 1,
   "outputs": [],
   "source": [
    "import os, sys\n",
    "import numpy as np\n",
    "import pandas as pd\n",
    "import dowhy.api\n"
   ],
   "metadata": {
    "collapsed": false
   }
  },
  {
   "cell_type": "code",
   "execution_count": 14,
   "outputs": [
    {
     "data": {
      "text/plain": "array([0.34341327, 0.54975667, 0.81998194, ..., 0.6038528 , 0.49262117,\n       0.67950753])"
     },
     "execution_count": 14,
     "metadata": {},
     "output_type": "execute_result"
    }
   ],
   "source": [
    "N = 5000\n",
    "z = np.random.uniform(size=N)\n",
    "z"
   ],
   "metadata": {
    "collapsed": false
   }
  },
  {
   "cell_type": "code",
   "execution_count": 15,
   "outputs": [
    {
     "data": {
      "text/plain": "array([1, 1, 1, ..., 1, 1, 1])"
     },
     "execution_count": 15,
     "metadata": {},
     "output_type": "execute_result"
    }
   ],
   "source": [
    "d = np.random.binomial(1., p=1. / (1. + np.exp(-5. * z)))\n",
    "d"
   ],
   "metadata": {
    "collapsed": false
   }
  },
  {
   "cell_type": "code",
   "execution_count": 16,
   "outputs": [
    {
     "data": {
      "text/plain": "array([1.70193083, 2.16358037, 2.74544809, ..., 2.04610291, 1.87921562,\n       2.46558884])"
     },
     "execution_count": 16,
     "metadata": {},
     "output_type": "execute_result"
    }
   ],
   "source": [
    "y = 2. * z + d + 0.1 * np.random.normal(size=N)\n",
    "y"
   ],
   "metadata": {
    "collapsed": false
   }
  },
  {
   "cell_type": "code",
   "execution_count": 17,
   "outputs": [
    {
     "data": {
      "text/plain": "             Z  D         Y\n0     0.343413  1  1.701931\n1     0.549757  1  2.163580\n2     0.819982  1  2.745448\n3     0.645566  1  2.375953\n4     0.766426  1  2.434074\n...        ... ..       ...\n4995  0.562789  1  2.131551\n4996  0.440326  1  1.740964\n4997  0.603853  1  2.046103\n4998  0.492621  1  1.879216\n4999  0.679508  1  2.465589\n\n[5000 rows x 3 columns]",
      "text/html": "<div>\n<style scoped>\n    .dataframe tbody tr th:only-of-type {\n        vertical-align: middle;\n    }\n\n    .dataframe tbody tr th {\n        vertical-align: top;\n    }\n\n    .dataframe thead th {\n        text-align: right;\n    }\n</style>\n<table border=\"1\" class=\"dataframe\">\n  <thead>\n    <tr style=\"text-align: right;\">\n      <th></th>\n      <th>Z</th>\n      <th>D</th>\n      <th>Y</th>\n    </tr>\n  </thead>\n  <tbody>\n    <tr>\n      <th>0</th>\n      <td>0.343413</td>\n      <td>1</td>\n      <td>1.701931</td>\n    </tr>\n    <tr>\n      <th>1</th>\n      <td>0.549757</td>\n      <td>1</td>\n      <td>2.163580</td>\n    </tr>\n    <tr>\n      <th>2</th>\n      <td>0.819982</td>\n      <td>1</td>\n      <td>2.745448</td>\n    </tr>\n    <tr>\n      <th>3</th>\n      <td>0.645566</td>\n      <td>1</td>\n      <td>2.375953</td>\n    </tr>\n    <tr>\n      <th>4</th>\n      <td>0.766426</td>\n      <td>1</td>\n      <td>2.434074</td>\n    </tr>\n    <tr>\n      <th>...</th>\n      <td>...</td>\n      <td>...</td>\n      <td>...</td>\n    </tr>\n    <tr>\n      <th>4995</th>\n      <td>0.562789</td>\n      <td>1</td>\n      <td>2.131551</td>\n    </tr>\n    <tr>\n      <th>4996</th>\n      <td>0.440326</td>\n      <td>1</td>\n      <td>1.740964</td>\n    </tr>\n    <tr>\n      <th>4997</th>\n      <td>0.603853</td>\n      <td>1</td>\n      <td>2.046103</td>\n    </tr>\n    <tr>\n      <th>4998</th>\n      <td>0.492621</td>\n      <td>1</td>\n      <td>1.879216</td>\n    </tr>\n    <tr>\n      <th>4999</th>\n      <td>0.679508</td>\n      <td>1</td>\n      <td>2.465589</td>\n    </tr>\n  </tbody>\n</table>\n<p>5000 rows × 3 columns</p>\n</div>"
     },
     "execution_count": 17,
     "metadata": {},
     "output_type": "execute_result"
    }
   ],
   "source": [
    "df = pd.DataFrame({'Z': z, 'D': d, 'Y': y})\n",
    "df"
   ],
   "metadata": {
    "collapsed": false
   }
  },
  {
   "cell_type": "code",
   "execution_count": 19,
   "outputs": [
    {
     "data": {
      "text/plain": "<Figure size 640x480 with 1 Axes>",
      "image/png": "[encoded data removed]"
     },
     "metadata": {},
     "output_type": "display_data"
    }
   ],
   "source": [
    "import seaborn as sns\n",
    "import matplotlib.pyplot as plt\n",
    "plt.rcdefaults()\n",
    "plt.rcParams['figure.dpi'] = 100\n",
    "plt.rcParams['font.size'] = 6\n",
    "sns.heatmap(df.corr(),\n",
    "            cmap='Reds',\n",
    "            center=0,\n",
    "            cbar=False,\n",
    "            annot=True)\n",
    "plt.show()"
   ],
   "metadata": {
    "collapsed": false
   }
  },
  {
   "cell_type": "code",
   "execution_count": 6,
   "outputs": [
    {
     "data": {
      "text/plain": "1.6201432738921493",
      "image/png": "[encoded data removed]",
      "text/latex": "$\\displaystyle 1.62014327389215$"
     },
     "execution_count": 6,
     "metadata": {},
     "output_type": "execute_result"
    }
   ],
   "source": [
    "(df[df.D == 1].mean() - df[df.D == 0].mean())['Y']"
   ],
   "metadata": {
    "collapsed": false
   }
  },
  {
   "cell_type": "code",
   "execution_count": 9,
   "outputs": [
    {
     "data": {
      "text/plain": "<Figure size 576x432 with 1 Axes>",
      "image/png": "[encoded data removed]"
     },
     "metadata": {},
     "output_type": "display_data"
    }
   ],
   "source": [
    "from dowhy import CausalModel\n",
    "\n",
    "causes = ['D']\n",
    "outcomes = ['Y']\n",
    "common_causes = ['Z']\n",
    "\n",
    "model = CausalModel(df,\n",
    "                    causes,\n",
    "                    outcomes,\n",
    "                    common_causes=common_causes)\n",
    "model.view_model()"
   ],
   "metadata": {
    "collapsed": false
   }
  },
  {
   "cell_type": "code",
   "execution_count": 10,
   "outputs": [
    {
     "data": {
      "text/plain": "<dowhy.causal_identifier.IdentifiedEstimand at 0x1977baee740>"
     },
     "execution_count": 10,
     "metadata": {},
     "output_type": "execute_result"
    }
   ],
   "source": [
    "identification = model.identify_effect(proceed_when_unidentifiable=True)\n",
    "identification"
   ],
   "metadata": {
    "collapsed": false
   }
  },
  {
   "cell_type": "code",
   "execution_count": 11,
   "outputs": [
    {
     "data": {
      "text/plain": "<dowhy.do_samplers.weighting_sampler.WeightingSampler at 0x1977fdc6fb0>"
     },
     "execution_count": 11,
     "metadata": {},
     "output_type": "execute_result"
    }
   ],
   "source": [
    "from dowhy.do_samplers.weighting_sampler import WeightingSampler\n",
    "\n",
    "sampler = WeightingSampler(df,\n",
    "                           causal_model=model,\n",
    "                           keep_original_treatment=True,\n",
    "                           variable_types={'D': 'b', 'Z': 'c', 'Y': 'c'})\n",
    "\n",
    "sampler"
   ],
   "metadata": {
    "collapsed": false
   }
  },
  {
   "cell_type": "code",
   "execution_count": 12,
   "outputs": [
    {
     "data": {
      "text/plain": "             Z  D         Y  propensity_score     weight\n0     0.285145  1  1.505440          0.799847   1.250239\n1     0.449720  1  2.072644          0.895713   1.116429\n2     0.746381  1  2.497007          0.971521   1.029314\n3     0.781397  1  2.726347          0.975696   1.024910\n4     0.493499  1  2.075925          0.913252   1.094988\n...        ... ..       ...               ...        ...\n4995  0.037062  0  0.127971          0.442271   2.261058\n4996  0.082751  1  1.295370          0.609299   1.641230\n4997  0.131547  1  1.296017          0.661779   1.511079\n4998  0.019186  1  0.934637          0.537142   1.861705\n4999  0.539432  0  0.895361          0.071255  14.034032\n\n[5000 rows x 5 columns]",
      "text/html": "<div>\n<style scoped>\n    .dataframe tbody tr th:only-of-type {\n        vertical-align: middle;\n    }\n\n    .dataframe tbody tr th {\n        vertical-align: top;\n    }\n\n    .dataframe thead th {\n        text-align: right;\n    }\n</style>\n<table border=\"1\" class=\"dataframe\">\n  <thead>\n    <tr style=\"text-align: right;\">\n      <th></th>\n      <th>Z</th>\n      <th>D</th>\n      <th>Y</th>\n      <th>propensity_score</th>\n      <th>weight</th>\n    </tr>\n  </thead>\n  <tbody>\n    <tr>\n      <th>0</th>\n      <td>0.285145</td>\n      <td>1</td>\n      <td>1.505440</td>\n      <td>0.799847</td>\n      <td>1.250239</td>\n    </tr>\n    <tr>\n      <th>1</th>\n      <td>0.449720</td>\n      <td>1</td>\n      <td>2.072644</td>\n      <td>0.895713</td>\n      <td>1.116429</td>\n    </tr>\n    <tr>\n      <th>2</th>\n      <td>0.746381</td>\n      <td>1</td>\n      <td>2.497007</td>\n      <td>0.971521</td>\n      <td>1.029314</td>\n    </tr>\n    <tr>\n      <th>3</th>\n      <td>0.781397</td>\n      <td>1</td>\n      <td>2.726347</td>\n      <td>0.975696</td>\n      <td>1.024910</td>\n    </tr>\n    <tr>\n      <th>4</th>\n      <td>0.493499</td>\n      <td>1</td>\n      <td>2.075925</td>\n      <td>0.913252</td>\n      <td>1.094988</td>\n    </tr>\n    <tr>\n      <th>...</th>\n      <td>...</td>\n      <td>...</td>\n      <td>...</td>\n      <td>...</td>\n      <td>...</td>\n    </tr>\n    <tr>\n      <th>4995</th>\n      <td>0.037062</td>\n      <td>0</td>\n      <td>0.127971</td>\n      <td>0.442271</td>\n      <td>2.261058</td>\n    </tr>\n    <tr>\n      <th>4996</th>\n      <td>0.082751</td>\n      <td>1</td>\n      <td>1.295370</td>\n      <td>0.609299</td>\n      <td>1.641230</td>\n    </tr>\n    <tr>\n      <th>4997</th>\n      <td>0.131547</td>\n      <td>1</td>\n      <td>1.296017</td>\n      <td>0.661779</td>\n      <td>1.511079</td>\n    </tr>\n    <tr>\n      <th>4998</th>\n      <td>0.019186</td>\n      <td>1</td>\n      <td>0.934637</td>\n      <td>0.537142</td>\n      <td>1.861705</td>\n    </tr>\n    <tr>\n      <th>4999</th>\n      <td>0.539432</td>\n      <td>0</td>\n      <td>0.895361</td>\n      <td>0.071255</td>\n      <td>14.034032</td>\n    </tr>\n  </tbody>\n</table>\n<p>5000 rows × 5 columns</p>\n</div>"
     },
     "execution_count": 12,
     "metadata": {},
     "output_type": "execute_result"
    }
   ],
   "source": [
    "interventional_df = sampler.do_sample(None)\n",
    "interventional_df"
   ],
   "metadata": {
    "collapsed": false
   }
  },
  {
   "cell_type": "code",
   "execution_count": 13,
   "outputs": [
    {
     "data": {
      "text/plain": "1.0835475876074832",
      "image/png": "[encoded data removed]",
      "text/latex": "$\\displaystyle 1.08354758760748$"
     },
     "execution_count": 13,
     "metadata": {},
     "output_type": "execute_result"
    }
   ],
   "source": [
    "(interventional_df[interventional_df.D == 1].mean() - interventional_df[interventional_df.D == 0].mean())['Y']"
   ],
   "metadata": {
    "collapsed": false
   }
  }
 ],
 "metadata": {
  "kernelspec": {
   "display_name": "Python 3",
   "language": "python",
   "name": "python3"
  },
  "language_info": {
   "codemirror_mode": {
    "name": "ipython",
    "version": 2
   },
   "file_extension": ".py",
   "mimetype": "text/x-python",
   "name": "python",
   "nbconvert_exporter": "python",
   "pygments_lexer": "ipython2",
   "version": "2.7.6"
  }
 },
 "nbformat": 4,
 "nbformat_minor": 0
}
